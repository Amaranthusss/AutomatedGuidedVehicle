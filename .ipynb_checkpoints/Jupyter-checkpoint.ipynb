{
 "cells": [
  {
   "cell_type": "code",
   "execution_count": 3,
   "metadata": {},
   "outputs": [],
   "source": [
    "var Plot = require('plotly-notebook-js');"
   ]
  },
  {
   "cell_type": "code",
   "execution_count": 4,
   "metadata": {},
   "outputs": [
    {
     "name": "stdout",
     "output_type": "stream",
     "text": [
      "[\n",
      "   0,  1,  2,  3,  4,  5,  6,  7,  8,  9, 10, 11,\n",
      "  12, 13, 14, 15, 16, 17, 18, 19, 20, 21, 22, 23,\n",
      "  24, 25, 26, 27, 28, 29, 30, 31, 32, 33, 34, 35,\n",
      "  36, 37, 38, 39, 40, 41, 42, 43, 44, 45, 46, 47,\n",
      "  48, 49, 50, 51, 52, 53, 54, 55, 56, 57, 58, 59,\n",
      "  60, 61, 62, 63, 64, 65, 66, 67, 68, 69, 70, 71,\n",
      "  72, 73, 74, 75, 76, 77, 78, 79, 80, 81, 82, 83,\n",
      "  84, 85, 86, 87, 88, 89, 90, 91, 92, 93, 94, 95,\n",
      "  96, 97, 98, 99\n",
      "]\n"
     ]
    },
    {
     "data": {
      "text/html": [
       "<div class='plotly-plot'><div id='notebook-plot-1612896174072'></div><script>function plot(){Plotly.plot('notebook-plot-1612896174072',[{\"x\":[1,2,3],\"y\":[3,4,5]}],{\"title\":\"Plotly in Jupyter!\"});}if(window.Plotly){plot();}else if(!window.require){var head = document.head || document.getElementsByTagName('head')[0];var s = document.createElement('script');s.src = 'https://cdn.plot.ly/plotly-latest.min.js';s.type = 'text/javascript';s.async = false;s.onreadystatechange = s.onload = plot;head.appendChild(s);}else{require(['/notebooks/node_modules/plotly-notebook-js/build/plotly.min.js'], function(Plotly){window.Plotly = Plotly;plot();});}</script></div>"
      ]
     },
     "execution_count": 4,
     "metadata": {},
     "output_type": "execute_result"
    }
   ],
   "source": [
    "\n",
    "arr = []\n",
    "for (let i = 0; i < 100; i++)\n",
    "    arr.push(i)\n",
    "console.log(arr)\n",
    "\n",
    "var myPlot = Plot.createPlot([{ x: [1,2,3], y: [3,4,5] }], { title: 'Plotly in Jupyter!' });\n",
    "\n",
    "$$html$$ = myPlot.render();\n"
   ]
  },
  {
   "cell_type": "code",
   "execution_count": null,
   "metadata": {},
   "outputs": [],
   "source": []
  }
 ],
 "metadata": {
  "kernelspec": {
   "display_name": "Javascript (Node.js)",
   "language": "javascript",
   "name": "javascript"
  },
  "language_info": {
   "file_extension": ".js",
   "mimetype": "application/javascript",
   "name": "javascript",
   "version": "12.16.2"
  }
 },
 "nbformat": 4,
 "nbformat_minor": 2
}
